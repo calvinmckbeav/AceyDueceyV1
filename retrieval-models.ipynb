{
  "nbformat": 4,
  "nbformat_minor": 0,
  "metadata": {
    "colab": {
      "provenance": [],
      "include_colab_link": true
    },
    "kernelspec": {
      "name": "python3",
      "display_name": "Python 3"
    }
  },
  "cells": [
    {
      "cell_type": "markdown",
      "metadata": {
        "id": "view-in-github",
        "colab_type": "text"
      },
      "source": [
        "<a href=\"https://colab.research.google.com/github/calvinmckbeav/AceyDueceyV1/blob/main/retrieval-models.ipynb\" target=\"_parent\"><img src=\"https://colab.research.google.com/assets/colab-badge.svg\" alt=\"Open In Colab\"/></a>"
      ]
    },
    {
      "cell_type": "markdown",
      "metadata": {
        "id": "vUpmSFflwzR1"
      },
      "source": [
        "# Retrieval Models and Evaluation\n",
        "\n"
      ]
    },
    {
      "cell_type": "markdown",
      "metadata": {
        "id": "-2PzgU4YxIl3"
      },
      "source": [
        "In this notebook, you will evaluate results ranking on a test collection. First, you'll compute the mean average precision of a baseline BM25 model. Then you'll implement a query-likelihood retrieval model based on the same inverted index.\n",
        "\n",
        "This notebook uses the [Pyserini](http://pyserini.io/) library, a Python interface to [Anserini](http://anserini.io) and thus to [Lucene](https://lucene.apache.org/), a widely-used open-source search engine. This library is written and maintained by Jimmy Lin and his colleagues at the University of Waterloo.\n"
      ]
    },
    {
      "cell_type": "markdown",
      "metadata": {
        "id": "f2vNd7bpJlDZ"
      },
      "source": [
        "We start by installing the python interface. Since it calls the underlying Lucene search engine, we make sure we point to an appropriate Java installation. If you don't have Java 21, this would need to be changed."
      ]
    },
    {
      "cell_type": "code",
      "source": [
        "## Uncomment the following code to install Java 21 on Colab\n",
        "!apt-get install openjdk-21-jre-headless -qq > /dev/null\n",
        "import os\n",
        "os.environ[\"JAVA_HOME\"] = \"/usr/lib/jvm/java-21-openjdk-amd64\"\n",
        "!update-alternatives --set java /usr/lib/jvm/java-21-openjdk-amd64/bin/java\n",
        "!java -version"
      ],
      "metadata": {
        "colab": {
          "base_uri": "https://localhost:8080/"
        },
        "id": "nBDwrCizYdak",
        "outputId": "8d761104-0525-4ff2-ea4a-3823a283bb8c"
      },
      "execution_count": 2,
      "outputs": [
        {
          "output_type": "stream",
          "name": "stdout",
          "text": [
            "openjdk version \"21.0.4\" 2024-07-16\n",
            "OpenJDK Runtime Environment (build 21.0.4+7-Ubuntu-1ubuntu222.04)\n",
            "OpenJDK 64-Bit Server VM (build 21.0.4+7-Ubuntu-1ubuntu222.04, mixed mode, sharing)\n"
          ]
        }
      ]
    },
    {
      "cell_type": "code",
      "metadata": {
        "id": "E_lt0-pXJia0",
        "colab": {
          "base_uri": "https://localhost:8080/"
        },
        "outputId": "664b45b4-d123-4364-f3c4-b9edc656b3a7"
      },
      "source": [
        "!pip install pyserini\n",
        "# You can change this to gpu if you have one.\n",
        "# It's a pyserini dependency, but we won't need it until the next assignment.\n",
        "!pip install faiss-cpu"
      ],
      "execution_count": 3,
      "outputs": [
        {
          "output_type": "stream",
          "name": "stdout",
          "text": [
            "Requirement already satisfied: pyserini in /usr/local/lib/python3.10/dist-packages (0.39.0)\n",
            "Requirement already satisfied: Cython>=0.29.21 in /usr/local/lib/python3.10/dist-packages (from pyserini) (3.0.11)\n",
            "Requirement already satisfied: numpy>=1.18.1 in /usr/local/lib/python3.10/dist-packages (from pyserini) (1.26.4)\n",
            "Requirement already satisfied: pandas>=1.4.0 in /usr/local/lib/python3.10/dist-packages (from pyserini) (2.2.2)\n",
            "Requirement already satisfied: pyjnius>=1.4.0 in /usr/local/lib/python3.10/dist-packages (from pyserini) (1.6.1)\n",
            "Requirement already satisfied: scikit-learn>=0.22.1 in /usr/local/lib/python3.10/dist-packages (from pyserini) (1.5.2)\n",
            "Requirement already satisfied: scipy>=1.4.1 in /usr/local/lib/python3.10/dist-packages (from pyserini) (1.13.1)\n",
            "Requirement already satisfied: tqdm in /usr/local/lib/python3.10/dist-packages (from pyserini) (4.66.6)\n",
            "Requirement already satisfied: transformers>=4.6.0 in /usr/local/lib/python3.10/dist-packages (from pyserini) (4.44.2)\n",
            "Requirement already satisfied: sentencepiece>=0.1.95 in /usr/local/lib/python3.10/dist-packages (from pyserini) (0.2.0)\n",
            "Requirement already satisfied: nmslib>=2.0.6 in /usr/local/lib/python3.10/dist-packages (from pyserini) (2.0.6)\n",
            "Requirement already satisfied: onnxruntime>=1.8.1 in /usr/local/lib/python3.10/dist-packages (from pyserini) (1.20.0)\n",
            "Requirement already satisfied: lightgbm>=3.3.2 in /usr/local/lib/python3.10/dist-packages (from pyserini) (4.5.0)\n",
            "Requirement already satisfied: spacy>=3.2.1 in /usr/local/lib/python3.10/dist-packages (from pyserini) (3.7.5)\n",
            "Requirement already satisfied: pyyaml in /usr/local/lib/python3.10/dist-packages (from pyserini) (6.0.2)\n",
            "Requirement already satisfied: openai>=1.0.0 in /usr/local/lib/python3.10/dist-packages (from pyserini) (1.52.2)\n",
            "Requirement already satisfied: tiktoken>=0.4.0 in /usr/local/lib/python3.10/dist-packages (from pyserini) (0.8.0)\n",
            "Requirement already satisfied: pyarrow>=15.0.0 in /usr/local/lib/python3.10/dist-packages (from pyserini) (17.0.0)\n",
            "Requirement already satisfied: pillow>=10.2.0 in /usr/local/lib/python3.10/dist-packages (from pyserini) (10.4.0)\n",
            "Requirement already satisfied: pybind11>=2.11.0 in /usr/local/lib/python3.10/dist-packages (from pyserini) (2.13.6)\n",
            "Requirement already satisfied: psutil in /usr/local/lib/python3.10/dist-packages (from nmslib>=2.0.6->pyserini) (5.9.5)\n",
            "Requirement already satisfied: coloredlogs in /usr/local/lib/python3.10/dist-packages (from onnxruntime>=1.8.1->pyserini) (15.0.1)\n",
            "Requirement already satisfied: flatbuffers in /usr/local/lib/python3.10/dist-packages (from onnxruntime>=1.8.1->pyserini) (24.3.25)\n",
            "Requirement already satisfied: packaging in /usr/local/lib/python3.10/dist-packages (from onnxruntime>=1.8.1->pyserini) (24.1)\n",
            "Requirement already satisfied: protobuf in /usr/local/lib/python3.10/dist-packages (from onnxruntime>=1.8.1->pyserini) (3.20.3)\n",
            "Requirement already satisfied: sympy in /usr/local/lib/python3.10/dist-packages (from onnxruntime>=1.8.1->pyserini) (1.13.1)\n",
            "Requirement already satisfied: anyio<5,>=3.5.0 in /usr/local/lib/python3.10/dist-packages (from openai>=1.0.0->pyserini) (3.7.1)\n",
            "Requirement already satisfied: distro<2,>=1.7.0 in /usr/local/lib/python3.10/dist-packages (from openai>=1.0.0->pyserini) (1.9.0)\n",
            "Requirement already satisfied: httpx<1,>=0.23.0 in /usr/local/lib/python3.10/dist-packages (from openai>=1.0.0->pyserini) (0.27.2)\n",
            "Requirement already satisfied: jiter<1,>=0.4.0 in /usr/local/lib/python3.10/dist-packages (from openai>=1.0.0->pyserini) (0.6.1)\n",
            "Requirement already satisfied: pydantic<3,>=1.9.0 in /usr/local/lib/python3.10/dist-packages (from openai>=1.0.0->pyserini) (2.9.2)\n",
            "Requirement already satisfied: sniffio in /usr/local/lib/python3.10/dist-packages (from openai>=1.0.0->pyserini) (1.3.1)\n",
            "Requirement already satisfied: typing-extensions<5,>=4.11 in /usr/local/lib/python3.10/dist-packages (from openai>=1.0.0->pyserini) (4.12.2)\n",
            "Requirement already satisfied: python-dateutil>=2.8.2 in /usr/local/lib/python3.10/dist-packages (from pandas>=1.4.0->pyserini) (2.8.2)\n",
            "Requirement already satisfied: pytz>=2020.1 in /usr/local/lib/python3.10/dist-packages (from pandas>=1.4.0->pyserini) (2024.2)\n",
            "Requirement already satisfied: tzdata>=2022.7 in /usr/local/lib/python3.10/dist-packages (from pandas>=1.4.0->pyserini) (2024.2)\n",
            "Requirement already satisfied: joblib>=1.2.0 in /usr/local/lib/python3.10/dist-packages (from scikit-learn>=0.22.1->pyserini) (1.4.2)\n",
            "Requirement already satisfied: threadpoolctl>=3.1.0 in /usr/local/lib/python3.10/dist-packages (from scikit-learn>=0.22.1->pyserini) (3.5.0)\n",
            "Requirement already satisfied: spacy-legacy<3.1.0,>=3.0.11 in /usr/local/lib/python3.10/dist-packages (from spacy>=3.2.1->pyserini) (3.0.12)\n",
            "Requirement already satisfied: spacy-loggers<2.0.0,>=1.0.0 in /usr/local/lib/python3.10/dist-packages (from spacy>=3.2.1->pyserini) (1.0.5)\n",
            "Requirement already satisfied: murmurhash<1.1.0,>=0.28.0 in /usr/local/lib/python3.10/dist-packages (from spacy>=3.2.1->pyserini) (1.0.10)\n",
            "Requirement already satisfied: cymem<2.1.0,>=2.0.2 in /usr/local/lib/python3.10/dist-packages (from spacy>=3.2.1->pyserini) (2.0.8)\n",
            "Requirement already satisfied: preshed<3.1.0,>=3.0.2 in /usr/local/lib/python3.10/dist-packages (from spacy>=3.2.1->pyserini) (3.0.9)\n",
            "Requirement already satisfied: thinc<8.3.0,>=8.2.2 in /usr/local/lib/python3.10/dist-packages (from spacy>=3.2.1->pyserini) (8.2.5)\n",
            "Requirement already satisfied: wasabi<1.2.0,>=0.9.1 in /usr/local/lib/python3.10/dist-packages (from spacy>=3.2.1->pyserini) (1.1.3)\n",
            "Requirement already satisfied: srsly<3.0.0,>=2.4.3 in /usr/local/lib/python3.10/dist-packages (from spacy>=3.2.1->pyserini) (2.4.8)\n",
            "Requirement already satisfied: catalogue<2.1.0,>=2.0.6 in /usr/local/lib/python3.10/dist-packages (from spacy>=3.2.1->pyserini) (2.0.10)\n",
            "Requirement already satisfied: weasel<0.5.0,>=0.1.0 in /usr/local/lib/python3.10/dist-packages (from spacy>=3.2.1->pyserini) (0.4.1)\n",
            "Requirement already satisfied: typer<1.0.0,>=0.3.0 in /usr/local/lib/python3.10/dist-packages (from spacy>=3.2.1->pyserini) (0.12.5)\n",
            "Requirement already satisfied: requests<3.0.0,>=2.13.0 in /usr/local/lib/python3.10/dist-packages (from spacy>=3.2.1->pyserini) (2.32.3)\n",
            "Requirement already satisfied: jinja2 in /usr/local/lib/python3.10/dist-packages (from spacy>=3.2.1->pyserini) (3.1.4)\n",
            "Requirement already satisfied: setuptools in /usr/local/lib/python3.10/dist-packages (from spacy>=3.2.1->pyserini) (75.1.0)\n",
            "Requirement already satisfied: langcodes<4.0.0,>=3.2.0 in /usr/local/lib/python3.10/dist-packages (from spacy>=3.2.1->pyserini) (3.4.1)\n",
            "Requirement already satisfied: regex>=2022.1.18 in /usr/local/lib/python3.10/dist-packages (from tiktoken>=0.4.0->pyserini) (2024.9.11)\n",
            "Requirement already satisfied: filelock in /usr/local/lib/python3.10/dist-packages (from transformers>=4.6.0->pyserini) (3.16.1)\n",
            "Requirement already satisfied: huggingface-hub<1.0,>=0.23.2 in /usr/local/lib/python3.10/dist-packages (from transformers>=4.6.0->pyserini) (0.24.7)\n",
            "Requirement already satisfied: safetensors>=0.4.1 in /usr/local/lib/python3.10/dist-packages (from transformers>=4.6.0->pyserini) (0.4.5)\n",
            "Requirement already satisfied: tokenizers<0.20,>=0.19 in /usr/local/lib/python3.10/dist-packages (from transformers>=4.6.0->pyserini) (0.19.1)\n",
            "Requirement already satisfied: idna>=2.8 in /usr/local/lib/python3.10/dist-packages (from anyio<5,>=3.5.0->openai>=1.0.0->pyserini) (3.10)\n",
            "Requirement already satisfied: exceptiongroup in /usr/local/lib/python3.10/dist-packages (from anyio<5,>=3.5.0->openai>=1.0.0->pyserini) (1.2.2)\n",
            "Requirement already satisfied: certifi in /usr/local/lib/python3.10/dist-packages (from httpx<1,>=0.23.0->openai>=1.0.0->pyserini) (2024.8.30)\n",
            "Requirement already satisfied: httpcore==1.* in /usr/local/lib/python3.10/dist-packages (from httpx<1,>=0.23.0->openai>=1.0.0->pyserini) (1.0.6)\n",
            "Requirement already satisfied: h11<0.15,>=0.13 in /usr/local/lib/python3.10/dist-packages (from httpcore==1.*->httpx<1,>=0.23.0->openai>=1.0.0->pyserini) (0.14.0)\n",
            "Requirement already satisfied: fsspec>=2023.5.0 in /usr/local/lib/python3.10/dist-packages (from huggingface-hub<1.0,>=0.23.2->transformers>=4.6.0->pyserini) (2024.10.0)\n",
            "Requirement already satisfied: language-data>=1.2 in /usr/local/lib/python3.10/dist-packages (from langcodes<4.0.0,>=3.2.0->spacy>=3.2.1->pyserini) (1.2.0)\n",
            "Requirement already satisfied: annotated-types>=0.6.0 in /usr/local/lib/python3.10/dist-packages (from pydantic<3,>=1.9.0->openai>=1.0.0->pyserini) (0.7.0)\n",
            "Requirement already satisfied: pydantic-core==2.23.4 in /usr/local/lib/python3.10/dist-packages (from pydantic<3,>=1.9.0->openai>=1.0.0->pyserini) (2.23.4)\n",
            "Requirement already satisfied: six>=1.5 in /usr/local/lib/python3.10/dist-packages (from python-dateutil>=2.8.2->pandas>=1.4.0->pyserini) (1.16.0)\n",
            "Requirement already satisfied: charset-normalizer<4,>=2 in /usr/local/lib/python3.10/dist-packages (from requests<3.0.0,>=2.13.0->spacy>=3.2.1->pyserini) (3.4.0)\n",
            "Requirement already satisfied: urllib3<3,>=1.21.1 in /usr/local/lib/python3.10/dist-packages (from requests<3.0.0,>=2.13.0->spacy>=3.2.1->pyserini) (2.2.3)\n",
            "Requirement already satisfied: blis<0.8.0,>=0.7.8 in /usr/local/lib/python3.10/dist-packages (from thinc<8.3.0,>=8.2.2->spacy>=3.2.1->pyserini) (0.7.11)\n",
            "Requirement already satisfied: confection<1.0.0,>=0.0.1 in /usr/local/lib/python3.10/dist-packages (from thinc<8.3.0,>=8.2.2->spacy>=3.2.1->pyserini) (0.1.5)\n",
            "Requirement already satisfied: click>=8.0.0 in /usr/local/lib/python3.10/dist-packages (from typer<1.0.0,>=0.3.0->spacy>=3.2.1->pyserini) (8.1.7)\n",
            "Requirement already satisfied: shellingham>=1.3.0 in /usr/local/lib/python3.10/dist-packages (from typer<1.0.0,>=0.3.0->spacy>=3.2.1->pyserini) (1.5.4)\n",
            "Requirement already satisfied: rich>=10.11.0 in /usr/local/lib/python3.10/dist-packages (from typer<1.0.0,>=0.3.0->spacy>=3.2.1->pyserini) (13.9.3)\n",
            "Requirement already satisfied: cloudpathlib<1.0.0,>=0.7.0 in /usr/local/lib/python3.10/dist-packages (from weasel<0.5.0,>=0.1.0->spacy>=3.2.1->pyserini) (0.20.0)\n",
            "Requirement already satisfied: smart-open<8.0.0,>=5.2.1 in /usr/local/lib/python3.10/dist-packages (from weasel<0.5.0,>=0.1.0->spacy>=3.2.1->pyserini) (7.0.5)\n",
            "Requirement already satisfied: humanfriendly>=9.1 in /usr/local/lib/python3.10/dist-packages (from coloredlogs->onnxruntime>=1.8.1->pyserini) (10.0)\n",
            "Requirement already satisfied: MarkupSafe>=2.0 in /usr/local/lib/python3.10/dist-packages (from jinja2->spacy>=3.2.1->pyserini) (3.0.2)\n",
            "Requirement already satisfied: mpmath<1.4,>=1.1.0 in /usr/local/lib/python3.10/dist-packages (from sympy->onnxruntime>=1.8.1->pyserini) (1.3.0)\n",
            "Requirement already satisfied: marisa-trie>=0.7.7 in /usr/local/lib/python3.10/dist-packages (from language-data>=1.2->langcodes<4.0.0,>=3.2.0->spacy>=3.2.1->pyserini) (1.2.1)\n",
            "Requirement already satisfied: markdown-it-py>=2.2.0 in /usr/local/lib/python3.10/dist-packages (from rich>=10.11.0->typer<1.0.0,>=0.3.0->spacy>=3.2.1->pyserini) (3.0.0)\n",
            "Requirement already satisfied: pygments<3.0.0,>=2.13.0 in /usr/local/lib/python3.10/dist-packages (from rich>=10.11.0->typer<1.0.0,>=0.3.0->spacy>=3.2.1->pyserini) (2.18.0)\n",
            "Requirement already satisfied: wrapt in /usr/local/lib/python3.10/dist-packages (from smart-open<8.0.0,>=5.2.1->weasel<0.5.0,>=0.1.0->spacy>=3.2.1->pyserini) (1.16.0)\n",
            "Requirement already satisfied: mdurl~=0.1 in /usr/local/lib/python3.10/dist-packages (from markdown-it-py>=2.2.0->rich>=10.11.0->typer<1.0.0,>=0.3.0->spacy>=3.2.1->pyserini) (0.1.2)\n",
            "Requirement already satisfied: faiss-cpu in /usr/local/lib/python3.10/dist-packages (1.9.0)\n",
            "Requirement already satisfied: numpy<3.0,>=1.25.0 in /usr/local/lib/python3.10/dist-packages (from faiss-cpu) (1.26.4)\n",
            "Requirement already satisfied: packaging in /usr/local/lib/python3.10/dist-packages (from faiss-cpu) (24.1)\n"
          ]
        }
      ]
    },
    {
      "cell_type": "markdown",
      "metadata": {
        "id": "NkD0kKxW9mHP"
      },
      "source": [
        "You can use the `LuceneSearcher` to search over an index. We can initialize the searcher with a pre-built index, which Pyserini will automatically download if it hasn't already:"
      ]
    },
    {
      "cell_type": "code",
      "metadata": {
        "id": "zVoAZvuAI_la"
      },
      "source": [
        "from pyserini.search.lucene import LuceneSearcher\n",
        "\n",
        "searcher = LuceneSearcher.from_prebuilt_index('robust04')"
      ],
      "execution_count": 4,
      "outputs": []
    },
    {
      "cell_type": "markdown",
      "metadata": {
        "id": "N6xHyonHJDKy"
      },
      "source": [
        "Now we can search for a query and inspect the results:"
      ]
    },
    {
      "cell_type": "code",
      "metadata": {
        "id": "yFZlcqEX0t1f",
        "colab": {
          "base_uri": "https://localhost:8080/"
        },
        "outputId": "363e2983-a089-45f0-f4f9-9fd6342fed54"
      },
      "source": [
        "hits = searcher.search('black bear attacks', 1000)\n",
        "\n",
        "# Prints the first 10 hits\n",
        "for i in range(0, 10):\n",
        "    print(f'{i+1:2} {hits[i].docid:15} {hits[i].score:.5f}')"
      ],
      "execution_count": 5,
      "outputs": [
        {
          "output_type": "stream",
          "name": "stdout",
          "text": [
            " 1 LA092790-0015   7.06680\n",
            " 2 LA081689-0039   6.89020\n",
            " 3 FBIS4-16530     6.61630\n",
            " 4 LA102589-0076   6.46450\n",
            " 5 FT932-15491     6.25090\n",
            " 6 FBIS3-12276     6.24630\n",
            " 7 LA091090-0085   6.17030\n",
            " 8 FT922-13519     6.04270\n",
            " 9 LA052790-0205   5.94060\n",
            "10 LA103089-0041   5.90650\n"
          ]
        }
      ]
    },
    {
      "cell_type": "markdown",
      "metadata": {
        "id": "emoSTga_7fOB"
      },
      "source": [
        "The `IndexReaderUtils` class provides various methods to read the index directly. For example, we can fetch a raw document from the index given its `docid`:"
      ]
    },
    {
      "cell_type": "code",
      "metadata": {
        "id": "N5ApT1YG71mz",
        "colab": {
          "base_uri": "https://localhost:8080/",
          "height": 547
        },
        "outputId": "0188e242-7f2e-417a-db79-19a12541760a"
      },
      "source": [
        "from pyserini.index import IndexReader\n",
        "from IPython.core.display import display, HTML\n",
        "\n",
        "reader = IndexReader.from_prebuilt_index('robust04')\n",
        "\n",
        "doc = reader.doc('LA092790-0015').raw()\n",
        "display(HTML('<div style=\"font-family: Times New Roman; padding-bottom:10px\">' + doc + '</div>'))"
      ],
      "execution_count": 6,
      "outputs": [
        {
          "output_type": "display_data",
          "data": {
            "text/plain": [
              "<IPython.core.display.HTML object>"
            ],
            "text/html": [
              "<div style=\"font-family: Times New Roman; padding-bottom:10px\"><DATE>\n",
              "<P>\n",
              "September 27, 1990, Thursday, Ventura County Edition\n",
              "</P>\n",
              "</DATE>\n",
              "<HEADLINE>\n",
              "<P>\n",
              "HUNGRY WILDLIFE STRAYING INTO SUBURBS;\n",
              "</P>\n",
              "<P>\n",
              "DROUGHT: FOUR DRY YEARS HAVE PARCHED NATIVE VEGETATION, FORCING BOBCATS, BEARS,\n",
              "MOUNTAIN LIONS, DEER AND COYOTES TO FORAGE CLOSER TO INHABITED AREAS.\n",
              "</P>\n",
              "</HEADLINE>\n",
              "<TEXT>\n",
              "<P>\n",
              "Hungry bobcats, bears and mountain lions -- unable to find food in Ventura\n",
              "County's drought-parched forests -- are being pushed out of their natural\n",
              "habitats to scavenge in rural communities, game officials said Wednesday.\n",
              "</P>\n",
              "<P>\n",
              "Two weeks ago, a black bear ripped the door off a trailer home in Rose Valley\n",
              "just north of Ojai. And within the past month, there have been several reports\n",
              "of mountain lions eating livestock near Los Padres National Forest. Several\n",
              "bobcats have been reported near houses in the Ojai Valley.\n",
              "</P>\n",
              "<P>\n",
              "Authorities say that over the past two years they have received twice the\n",
              "complaints -- about 20 a month -- of wild animals in populated areas. The\n",
              "drought is now in its fourth year in California.\n",
              "</P>\n",
              "<P>\n",
              "\"We've been having more and more conflicts with animals,\" said Capt. Roger\n",
              "Reese, with the state Department of Fish and Game. \"The fact is, it's very dry\n",
              "out there, and there just isn't a lot of food and water for them.\"\n",
              "</P>\n",
              "<P>\n",
              "Animal control officials say they are advising residents in rural areas to be\n",
              "aware of the problem. But so far, no one has been attacked by the wild animals,\n",
              "although there have been such attacks reported elsewhere in Southern\n",
              "California, authorities said.\n",
              "</P>\n",
              "<P>\n",
              "Coyotes have been running amok, officials said. Virtually all parts of the\n",
              "county except beach areas probably have been visited at one time or another by\n",
              "coyotes, said Kathy Jenks, director of the Ventura County Department of Animal\n",
              "Regulation.\n",
              "</P>\n",
              "<P>\n",
              "In Ventura, coyotes are often seen in Grant Park above City Hall, and in Arroyo\n",
              "Verde Park in the Ondulando district on the east side, Jenks said.\n",
              "</P>\n",
              "<P>\n",
              "Elsewhere, coyotes have been seen on streets in Thousand Oaks, Moorpark and\n",
              "Simi Valley. The rural, foothill developments are especially vulnerable, she\n",
              "said.\n",
              "</P>\n",
              "<P>\n",
              "Jenks said she advises residents to keep small pets inside, especially at\n",
              "night.\n",
              "</P>\n",
              "<P>\n",
              "There have even been a few cases in which brazen coyotes have attacked family\n",
              "animals in back yards, and a large number of house cats are disappearing,\n",
              "officials said.\n",
              "</P>\n",
              "<P>\n",
              "\"The common house cat is like a fancy feast for a coyote,\" she said. \"They're\n",
              "hungry, they're thirsty and they're coming down out of the hills.\"\n",
              "</P>\n",
              "<P>\n",
              "There have been a few reports of deer grazing in people's yards, Reese said.\n",
              "</P>\n",
              "<P>\n",
              "Traditionally, September is the worst month for wildlife, authorities said.\n",
              "</P>\n",
              "<P>\n",
              "\"It is usually the driest month,\" Reese said. \"And a lot of animals that have\n",
              "been raised in the spring leave their parents and go in search of food.\"\n",
              "</P>\n",
              "<P>\n",
              "More animals are expected to leave their natural habitats if the drought\n",
              "continues, officials said.\n",
              "</P>\n",
              "<P>\n",
              "\"I tell people who call that if we didn't have the big cats and the coyotes, we\n",
              "would be overrun by rodents,\" Jenks said. \"I would much rather hear a coyote in\n",
              "the distance than have roof rats.\"\n",
              "</P>\n",
              "<P>\n",
              "Don DeBusschere, who lives on a 45-acre walnut orchard in Happy Valley near\n",
              "Ojai, said his family has grown accustomed to wild animals. DeBusschere said he\n",
              "has seen scores of coyotes, several deer and a black bear.\n",
              "</P>\n",
              "<P>\n",
              "Recently, he said, two bobcats have moved into the trees on the edge of his\n",
              "property.\n",
              "</P>\n",
              "<P>\n",
              "\"They're not out to get humans,\" DeBusschere said. \"They're just trying to make\n",
              "a living off the land.\"\n",
              "</P>\n",
              "</TEXT></div>"
            ]
          },
          "metadata": {}
        }
      ]
    },
    {
      "cell_type": "markdown",
      "metadata": {
        "id": "1RMfMgWt8bgm"
      },
      "source": [
        "Note that the result is exactly the same as displaying the hit contents above. Given the raw text, we can obtain its analyzed form (i.e., tokenized, stemmed, stopwords removed, etc.). Here we show the first ten tokens:"
      ]
    },
    {
      "cell_type": "code",
      "metadata": {
        "id": "ZgNGM65F6m5h",
        "colab": {
          "base_uri": "https://localhost:8080/"
        },
        "outputId": "5f091b06-96be-442d-d7b7-ece0c0756a93"
      },
      "source": [
        "analyzed = reader.analyze(doc)\n",
        "analyzed[0:10]"
      ],
      "execution_count": 7,
      "outputs": [
        {
          "output_type": "execute_result",
          "data": {
            "text/plain": [
              "['date',\n",
              " 'p',\n",
              " 'septemb',\n",
              " '27',\n",
              " '1990',\n",
              " 'thursdai',\n",
              " 'ventura',\n",
              " 'counti',\n",
              " 'edit',\n",
              " 'p']"
            ]
          },
          "metadata": {},
          "execution_count": 7
        }
      ]
    },
    {
      "cell_type": "markdown",
      "metadata": {
        "id": "Z5OUXedN89Yf"
      },
      "source": [
        "The index also stores the raw document vector, which we can obtain as a Python dictionary of analyzed terms to counts (i.e., term frequency).\n",
        "For brevity, we only look at terms that appear more than once:"
      ]
    },
    {
      "cell_type": "code",
      "metadata": {
        "id": "mMtneeJw8HDI",
        "colab": {
          "base_uri": "https://localhost:8080/"
        },
        "outputId": "0bc2472f-f91d-4074-94c5-786dda7b37a6"
      },
      "source": [
        "doc_vector = reader.get_document_vector('LA092790-0015')\n",
        "{ k: v for (k, v) in doc_vector.items() if v >1 }"
      ],
      "execution_count": 8,
      "outputs": [
        {
          "output_type": "execute_result",
          "data": {
            "text/plain": [
              "{'been': 11,\n",
              " 'habitat': 2,\n",
              " 'year': 3,\n",
              " 'jenk': 4,\n",
              " 'mountain': 3,\n",
              " 'rees': 3,\n",
              " 'would': 2,\n",
              " 'debusscher': 3,\n",
              " 'near': 3,\n",
              " 'hungri': 3,\n",
              " 'past': 2,\n",
              " 'especi': 2,\n",
              " 'wildlif': 2,\n",
              " 'lion': 3,\n",
              " 'ventura': 4,\n",
              " 'anim': 9,\n",
              " 'forest': 2,\n",
              " 'two': 3,\n",
              " 'seen': 3,\n",
              " 'attack': 3,\n",
              " 'black': 2,\n",
              " 'i': 2,\n",
              " 'food': 3,\n",
              " 'counti': 4,\n",
              " 'rural': 3,\n",
              " \"they'r\": 5,\n",
              " 'sever': 3,\n",
              " 'california': 2,\n",
              " 'advis': 2,\n",
              " 'parch': 2,\n",
              " 'area': 4,\n",
              " 'she': 3,\n",
              " 'month': 4,\n",
              " 'deer': 3,\n",
              " 'famili': 2,\n",
              " 'we': 2,\n",
              " 'peopl': 2,\n",
              " 'just': 3,\n",
              " 'live': 2,\n",
              " 'drought': 4,\n",
              " 'ha': 3,\n",
              " 'he': 2,\n",
              " 'hi': 2,\n",
              " 'septemb': 2,\n",
              " 'yard': 2,\n",
              " 'elsewher': 2,\n",
              " 'natur': 2,\n",
              " 'out': 4,\n",
              " 'lot': 2,\n",
              " 'have': 16,\n",
              " 'leav': 2,\n",
              " 'more': 3,\n",
              " 'off': 2,\n",
              " 'ojai': 3,\n",
              " 'report': 4,\n",
              " 'bobcat': 4,\n",
              " 'coyot': 10,\n",
              " 'few': 2,\n",
              " 'bear': 4,\n",
              " 'depart': 2,\n",
              " 'author': 3,\n",
              " 'dry': 2,\n",
              " 'vallei': 4,\n",
              " 'who': 2,\n",
              " 'game': 2,\n",
              " 'resid': 2,\n",
              " 'hous': 3,\n",
              " 'cat': 3,\n",
              " 'sai': 2,\n",
              " 'said': 19,\n",
              " 'park': 2,\n",
              " 'on': 2,\n",
              " 'offici': 5,\n",
              " 'wild': 3}"
            ]
          },
          "metadata": {},
          "execution_count": 8
        }
      ]
    },
    {
      "cell_type": "markdown",
      "source": [
        "## Evaluating Ranked Results\n",
        "\n",
        "We can load some standard evaluation sets such as Robust04, which contains 250 queries, or \"topics\" as the TREC conferences call them."
      ],
      "metadata": {
        "id": "GOFVMQKLyW1S"
      }
    },
    {
      "cell_type": "code",
      "source": [
        "from pyserini.search import get_topics\n",
        "topics = get_topics('robust04')\n",
        "print(f'{len(topics)} queries total')"
      ],
      "metadata": {
        "colab": {
          "base_uri": "https://localhost:8080/"
        },
        "id": "Q1sdhbDTdwqf",
        "outputId": "7969322d-a9f1-44f0-f4df-d2cb0e52ebb8"
      },
      "execution_count": 9,
      "outputs": [
        {
          "output_type": "stream",
          "name": "stdout",
          "text": [
            "250 queries total\n"
          ]
        }
      ]
    },
    {
      "cell_type": "markdown",
      "source": [
        "The topics are in a dictionary, whose keys are integers uniquely identifying each query. Each topic contains the following fields:\n",
        "\n",
        "* `title`: TREC's term for the brief query a user might actually type;\n",
        "* `description`: a longer form of the query in the form of a complete sentence; and\n",
        "* `narrative`: a description of what the user is looking for and what kinds of results would be relevant or non-relevant."
      ],
      "metadata": {
        "id": "RbODj6sezBvB"
      }
    },
    {
      "cell_type": "code",
      "source": [
        "topics[301]"
      ],
      "metadata": {
        "colab": {
          "base_uri": "https://localhost:8080/"
        },
        "id": "KBOeSkJxy-8R",
        "outputId": "2c8d1d9d-8bb6-4758-b5f5-d6e54183cf0b"
      },
      "execution_count": 10,
      "outputs": [
        {
          "output_type": "execute_result",
          "data": {
            "text/plain": [
              "{'narrative': 'A relevant document must as a minimum identify the organization and the type of illegal activity (e.g., Columbian cartel exporting cocaine). Vague references to international drug trade without identification of the organization(s) involved would not be relevant.',\n",
              " 'description': 'Identify organizations that participate in international criminal activity, the activity, and, if possible, collaborating organizations and the countries involved.',\n",
              " 'title': 'International Organized Crime'}"
            ]
          },
          "metadata": {},
          "execution_count": 10
        }
      ]
    },
    {
      "cell_type": "markdown",
      "source": [
        "For the purpose of your experiments, we'll divide them into a development and test set."
      ],
      "metadata": {
        "id": "gMbgbZVqyzdj"
      }
    },
    {
      "cell_type": "code",
      "source": [
        "dev_topics = {k:topics[k] for k in list(topics.keys())[:125]}\n",
        "test_topics = {k:topics[k] for k in list(topics.keys())[125:]}"
      ],
      "metadata": {
        "id": "LILkqQDqd3Tj"
      },
      "execution_count": 11,
      "outputs": []
    },
    {
      "cell_type": "markdown",
      "source": [
        "Now, we'll fetch the relevance judgments for the Robust04 queries, which TREC calls \"qrels\"."
      ],
      "metadata": {
        "id": "HTY9-DMyzuU5"
      }
    },
    {
      "cell_type": "code",
      "source": [
        "from urllib.request import urlopen\n",
        "\n",
        "qfile = 'https://github.com/castorini/anserini-tools/blob/63ceeab1dd94c1221f29b931d868e8fab67cc25c/topics-and-qrels/qrels.robust04.txt?raw=true'\n",
        "qrels = []\n",
        "for line in urlopen(qfile):\n",
        "  qid, round, docid, score = line.strip().split()\n",
        "  qrels.append([int(qid), 0, docid.decode('UTF-8'), int(score)])\n",
        "#qrels = [line.strip().split() for line in urlopen(qfile)]"
      ],
      "metadata": {
        "id": "b53vacvvf6fw"
      },
      "execution_count": 12,
      "outputs": []
    },
    {
      "cell_type": "markdown",
      "source": [
        "Each record in the qrel contains four fields:\n",
        "\n",
        "1. the numeric identifier of the query;\n",
        "2. the round of relevance feedback, which is here always 0;\n",
        "3. the identifier of a documennt that has been judged; and\n",
        "4. the relevance score of that document.\n",
        "\n",
        "In Robust04, all relevance judgments are binary, i.e., 1 or 0. Note that not all non-relevant documents are recorded. The qrel file only contains those documents the annotators actually looked at; the vast majority of documents in the collection have not been judged. In IR evaluation, we assume that unannotated documents are non-relevant."
      ],
      "metadata": {
        "id": "BXg8YO590Aky"
      }
    },
    {
      "cell_type": "code",
      "source": [
        "qrels[0:10]"
      ],
      "metadata": {
        "colab": {
          "base_uri": "https://localhost:8080/"
        },
        "id": "ZJblOI_pgZBh",
        "outputId": "6fe610fb-a9b2-41b9-c6b3-8a105ff41a2a"
      },
      "execution_count": 13,
      "outputs": [
        {
          "output_type": "execute_result",
          "data": {
            "text/plain": [
              "[[301, 0, 'FBIS3-10082', 1],\n",
              " [301, 0, 'FBIS3-10169', 0],\n",
              " [301, 0, 'FBIS3-10243', 1],\n",
              " [301, 0, 'FBIS3-10319', 0],\n",
              " [301, 0, 'FBIS3-10397', 1],\n",
              " [301, 0, 'FBIS3-10491', 1],\n",
              " [301, 0, 'FBIS3-10555', 0],\n",
              " [301, 0, 'FBIS3-10622', 1],\n",
              " [301, 0, 'FBIS3-10634', 0],\n",
              " [301, 0, 'FBIS3-10635', 0]]"
            ]
          },
          "metadata": {},
          "execution_count": 13
        }
      ]
    },
    {
      "cell_type": "markdown",
      "source": [
        "## Computing Mean Average Precision\n",
        "\n",
        "The Robust04 collection uses binary relevance judgments and usually has multiple relevant results for each query. It is thus common to use **mean average precision** (MAP) to evaluate retrieval performance on it. Remember from class that MAP adds the precision at the position of each _relevant_ document in a ranked list and then divides by the total number of relevant documents. So that we don't have to scan through the entire collection, we usually evaluate MAP at some maximum rank value, such as 100 or 1000. We simply stop scanning at that maximum rank.\n",
        "\n",
        "As we saw above, you should pass a query string (the `title` of a topic) and the desired number of results to the `search` method of the `searcher` object."
      ],
      "metadata": {
        "id": "LoDPnv1b04lP"
      }
    },
    {
      "cell_type": "code",
      "source": [
        "hits = searcher.search(dev_topics[355]['title'], 1000)\n",
        "[(hit.docid, hit.score) for hit in hits[0:10]]"
      ],
      "metadata": {
        "colab": {
          "base_uri": "https://localhost:8080/"
        },
        "id": "pvcF6KPN8jew",
        "outputId": "05896e6f-a9e0-4fb1-fd62-495c10d1ada0"
      },
      "execution_count": 14,
      "outputs": [
        {
          "output_type": "execute_result",
          "data": {
            "text/plain": [
              "[('FBIS4-20436', 11.349300384521484),\n",
              " ('FBIS3-23683', 9.126500129699707),\n",
              " ('FBIS3-21238', 8.309300422668457),\n",
              " ('FBIS4-44915', 7.935699939727783),\n",
              " ('FBIS4-20602', 7.6006999015808105),\n",
              " ('FBIS4-47382', 7.529600143432617),\n",
              " ('FT943-1589', 7.480100154876709),\n",
              " ('LA071789-0059', 7.451399803161621),\n",
              " ('FBIS4-22145', 7.215099811553955),\n",
              " ('FBIS4-44667', 7.106500148773193)]"
            ]
          },
          "metadata": {},
          "execution_count": 14
        }
      ]
    },
    {
      "cell_type": "markdown",
      "source": [
        "For this assignment, evaluate MAP@1000 for the list of `test_topics` we created above. You should process the `qrels` data to find the relevant results for each query."
      ],
      "metadata": {
        "id": "407VkQsK8h6T"
      }
    },
    {
      "cell_type": "code",
      "source": [
        "## TODO [35 points]: Compute MAP@1000 for test_topics\n",
        "total_ap = 0.0\n",
        "num_queries = len(test_topics)\n",
        "def get_relevant_docs(qrels, query_id):\n",
        "    return {docid for qid, _, docid, score in qrels if qid == query_id and score > 0}\n",
        "\n",
        "# loop over every test topic\n",
        "for topic_id, topic in test_topics.items():\n",
        "    # top 1000 results\n",
        "    hits = searcher.search(topic['title'], 1000)\n",
        "\n",
        "    # get relevant docs\n",
        "    relevant_docs = get_relevant_docs(qrels, topic_id)\n",
        "    if not relevant_docs:\n",
        "        continue  # Skip if no relevant documents are found\n",
        "\n",
        "    num_relevant = 0\n",
        "    ap_sum = 0.0\n",
        "\n",
        "    # loop through retrieved docs\n",
        "    for rank, hit in enumerate(hits[:1000], start=1):\n",
        "        if hit.docid in relevant_docs:\n",
        "            num_relevant += 1\n",
        "            precision_at_k = num_relevant / rank\n",
        "            ap_sum += precision_at_k\n",
        "\n",
        "    # calculate ap\n",
        "    ap = ap_sum / len(relevant_docs)\n",
        "    total_ap += ap\n",
        "\n",
        "# Calculate MAP across all queries\n",
        "map_score = total_ap / num_queries\n",
        "print(f'MAP@1000: {map_score:.4f}')\n"
      ],
      "metadata": {
        "id": "aGQK-C935EVA",
        "colab": {
          "base_uri": "https://localhost:8080/"
        },
        "outputId": "dac54471-4185-40f6-9514-093358438603"
      },
      "execution_count": 23,
      "outputs": [
        {
          "output_type": "stream",
          "name": "stdout",
          "text": [
            "MAP@1000: 0.2616\n"
          ]
        }
      ]
    },
    {
      "cell_type": "markdown",
      "source": [
        "## Implementing a Query Likelihood Model\n",
        "\n",
        "The default `LuceneSearcher` in pyserini uses a BM25 model. In this part of the assignment, you'll interact directly with the index to implement a query likelihood retrieval model.  For more details on pyserini's index API, [see the documentation](https://github.com/castorini/pyserini/blob/master/docs/usage-indexreader.md).\n",
        "\n",
        "We've already created an `IndexReader` for the Robust04 collection and assigned it to `reader`. Remember that we can pass documents or queries through the index's predefined analysis pipeline, a series of operations like stemming, stopword removal, etc."
      ],
      "metadata": {
        "id": "MpdecWki1sxo"
      }
    },
    {
      "cell_type": "code",
      "source": [
        "reader.analyze('Are there black bear attacks there?')"
      ],
      "metadata": {
        "colab": {
          "base_uri": "https://localhost:8080/"
        },
        "id": "HaDprYgo-yRz",
        "outputId": "5e3ffd23-5a44-4fc8-8f30-3ac27edfb888"
      },
      "execution_count": 16,
      "outputs": [
        {
          "output_type": "execute_result",
          "data": {
            "text/plain": [
              "['black', 'bear', 'attack']"
            ]
          },
          "metadata": {},
          "execution_count": 16
        }
      ]
    },
    {
      "cell_type": "markdown",
      "source": [
        "For most retrieval models, including BM25 and query likelihood, we'll want to know the overall statistics for the terms we retrieve from the index. By default, pyserini will do stemming and other \"analysis\" steps on the terms you give it. But since we're already working with stemmed queries, we'll tell it not to perform this analysis now."
      ],
      "metadata": {
        "id": "hs11fpZY-4H8"
      }
    },
    {
      "cell_type": "code",
      "source": [
        "# Just checking that our term is already in its index form.\n",
        "print(reader.analyze('bear'))\n",
        "\n",
        "df, cf = reader.get_term_counts('bear', analyzer=None)\n",
        "print(f'The document frequency is {df} and the collection frequency is {cf}.')"
      ],
      "metadata": {
        "colab": {
          "base_uri": "https://localhost:8080/"
        },
        "id": "ZNHf3z1Y_gy2",
        "outputId": "bb444d8e-25ab-4864-9a93-abcc5fd2c97d"
      },
      "execution_count": 17,
      "outputs": [
        {
          "output_type": "stream",
          "name": "stdout",
          "text": [
            "['bear']\n",
            "The document frequency is 16429 and the collection frequency is 23545.\n"
          ]
        }
      ]
    },
    {
      "cell_type": "markdown",
      "source": [
        "You might also want to know summary statistics about the collection."
      ],
      "metadata": {
        "id": "FLGz4mncCuyd"
      }
    },
    {
      "cell_type": "code",
      "source": [
        "reader.stats()"
      ],
      "metadata": {
        "colab": {
          "base_uri": "https://localhost:8080/"
        },
        "id": "7L0l9hO4Cx5V",
        "outputId": "3e42104f-96df-45f8-ef1e-50e2522f6e3e"
      },
      "execution_count": 18,
      "outputs": [
        {
          "output_type": "execute_result",
          "data": {
            "text/plain": [
              "{'total_terms': 174540872,\n",
              " 'documents': 528030,\n",
              " 'non_empty_documents': 528030,\n",
              " 'unique_terms': 923436}"
            ]
          },
          "metadata": {},
          "execution_count": 18
        }
      ]
    },
    {
      "cell_type": "markdown",
      "source": [
        "Now let's traverse the postings for a term."
      ],
      "metadata": {
        "id": "o7878QVlAPWA"
      }
    },
    {
      "cell_type": "code",
      "source": [
        "posting_list = reader.get_postings_list('bear', analyzer=None)\n",
        "print(f'There are {len(posting_list)} postings.')\n",
        "\n",
        "posting = posting_list[100]\n",
        "print(f'Each posting contains a document ID ({posting.docid}), term frequency ({posting.tf}), and position list ({posting.positions}).')\n",
        "\n",
        "print(f'searcher has a method for turning internal integer IDs like {posting.docid} into external IDs like {searcher.doc(posting.docid).docid()}.')"
      ],
      "metadata": {
        "colab": {
          "base_uri": "https://localhost:8080/"
        },
        "id": "rWdztSSQAaVs",
        "outputId": "7edf8edf-d948-4f44-8058-2390b80d4b35"
      },
      "execution_count": 19,
      "outputs": [
        {
          "output_type": "stream",
          "name": "stdout",
          "text": [
            "There are 16429 postings.\n",
            "Each posting contains a document ID (3405), term frequency (1), and position list ([461]).\n",
            "searcher has a method for turning internal integer IDs like 3405 into external IDs like LA031889-0009.\n"
          ]
        }
      ]
    },
    {
      "cell_type": "markdown",
      "source": [
        "If, instead of mapping terms to documents, you want to use a document name to get term information, see above for the `get_document_vector` method.\n",
        "\n",
        "Now you should have all the information you need to implement a query likelihood retrieval model. Use Dirichlet smoothing with $\\mu = 550$."
      ],
      "metadata": {
        "id": "F9KdZ6LLMiBS"
      }
    },
    {
      "cell_type": "code",
      "source": [
        "## TODO [50 points]: Implement a query likelihood model with Dirichlet smoothing.\n",
        "## For a given query, index reader, and constant k, return the k documents with the highest query likelihoods.\n",
        "## Think about what data s would let you keep the top k.\n",
        "import math\n",
        "from heapq import nlargest\n",
        "\n",
        "\n",
        "\n",
        "def query_likelihood_model(query, reader, k=1000):\n",
        "    # Analyze the query\n",
        "    query_terms = reader.analyze(query)\n",
        "\n",
        "    # collection statistics\n",
        "    collection_stats = reader.stats()\n",
        "    total_terms = collection_stats['total_terms']\n",
        "\n",
        "\n",
        "    doc_scores = {}\n",
        "\n",
        "\n",
        "    for term in query_terms:\n",
        "        # collection freq and postings for each term\n",
        "        cf = reader.get_term_counts(term, analyzer=None)[1]\n",
        "        postings = reader.get_postings_list(term, analyzer=None)\n",
        "\n",
        "        if postings is None:\n",
        "            continue\n",
        "\n",
        "        for posting in postings:\n",
        "          # docid and term freq\n",
        "            docid = posting.docid\n",
        "            external_id = searcher.doc(docid).docid()\n",
        "            tf = posting.tf\n",
        "\n",
        "            # doc length\n",
        "            doc_vector = reader.get_document_vector(external_id)\n",
        "            doc_length = sum(doc_vector.values())\n",
        "\n",
        "            # Dirichlet smoothed probability\n",
        "            p_w_d = (tf + 550 * (cf / total_terms)) / (doc_length + 550)\n",
        "\n",
        "            # sum log probs\n",
        "            if docid not in doc_scores:\n",
        "                doc_scores[docid] = 0.0\n",
        "            doc_scores[docid] += math.log(p_w_d)\n",
        "\n",
        "    # Sort docs by score and return top k documents\n",
        "    top_docs = nlargest(k, doc_scores.items(), key=lambda item: item[1])\n",
        "    # convert internal docids to external IDs\n",
        "    return [(searcher.doc(docid).docid(), score) for docid, score in top_docs]\n",
        "print(query_likelihood_model(\"bear attacks\", reader, 1000))\n"
      ],
      "metadata": {
        "id": "PKAzgxzwNQ8v",
        "colab": {
          "base_uri": "https://localhost:8080/"
        },
        "outputId": "7155e9b9-c826-4ddd-aa35-a916495bfcbb"
      },
      "execution_count": 20,
      "outputs": [
        {
          "output_type": "stream",
          "name": "stdout",
          "text": [
            "[('LA021790-0061', -2.9237260938016587), ('LA063090-0144', -2.9798910768504916), ('LA021289-0039', -3.0344786720876993), ('LA091589-0023', -3.2711864372116484), ('LA121690-0083', -3.2936566738238473), ('LA073090-0137', -3.461643317674729), ('FR940511-1-00107', -3.4915162408945286), ('FR940511-0-00031', -3.635195689374696), ('LA102289-0139', -3.7065182221850246), ('FR940228-2-00008', -3.785897579481145), ('FBIS3-60234', -3.803424056668145), ('LA121990-0038', -3.816798556005581), ('LA100889-0165', -3.8787913263738414), ('FR940511-0-00032', -3.8804885961993865), ('FR941107-0-00023', -3.945320073271634), ('FR940504-2-00008', -3.9481571027548528), ('LA082090-0032', -3.9488588889905585), ('FR940603-0-00084', -3.96291751877844), ('FBIS4-57923', -4.002051857215111), ('FBIS4-46249', -4.002051857215111), ('FR940706-1-00004', -4.006110119987156), ('LA040289-0051', -4.026290176991534), ('FBIS4-47', -4.031202957592258), ('FBIS3-45200', -4.062381867239637), ('FBIS3-41518', -4.062381867239637), ('FR940907-0-00015', -4.075623563239328), ('FR940706-1-00002', -4.077202033307519), ('LA110289-0120', -4.084819451383744), ('FR941107-0-00021', -4.092926610576022), ('LA081490-0114', -4.09577136835958), ('FR940511-1-00108', -4.103367542689547), ('FBIS3-40337', -4.109152436272077), ('LA060190-0138', -4.121819998438111), ('LA032790-0138', -4.134965727650614), ('FBIS4-46212', -4.1489565087015), ('FBIS4-57678', -4.1489565087015), ('FBIS3-29745', -4.167731218096854), ('LA010989-0060', -4.169418829337768), ('FT934-15724', -4.170273895657502), ('LA111890-0076', -4.184080965293363), ('LA062090-0030', -4.186013077694432), ('FT934-10522', -4.204137468622572), ('FR940725-0-00040', -4.205647670852138), ('LA102589-0092', -4.211198101382788), ('LA110590-0067', -4.213664273834046), ('LA100490-0128', -4.222357264625921), ('FR940902-1-00054', -4.234711957640314), ('LA101590-0087', -4.240878472555978), ('LA061189-0094', -4.247190267122179), ('FT932-2101', -4.247664315991759), ('LA041190-0062', -4.248220775215841), ('FR940224-2-00100', -4.248311822213412), ('LA011289-0045', -4.248323234021717), ('FBIS3-59352', -4.250161084683016), ('FR940228-2-00015', -4.26149468732829), ('FBIS3-34332', -4.28510653115624), ('LA112290-0140', -4.29420747363889), ('FBIS4-65874', -4.2961563673428245), ('FBIS4-46177', -4.298595392942183), ('FR940603-0-00112', -4.302092180589315), ('FBIS4-25246', -4.304635391620811), ('LA081689-0053', -4.312759296353412), ('FBIS3-34599', -4.322404764791724), ('FT944-4035', -4.322812086012456), ('FR940831-0-00026', -4.331071074865371), ('FBIS4-4764', -4.336467106049131), ('FR940414-2-00004', -4.3366628881311495), ('FR940902-1-00078', -4.337921558248618), ('LA090290-0090', -4.34263849681198), ('FBIS3-57336', -4.345004672737308), ('FR940622-2-00004', -4.352314922568177), ('FR940603-0-00114', -4.353107878956603), ('LA013089-0045', -4.367070563180945), ('FBIS3-23219', -4.368215324910551), ('FBIS3-10633', -4.368215324910551), ('FBIS4-44674', -4.368930399415874), ('FBIS4-17677', -4.370564518570046), ('FR940511-0-00030', -4.370748624257015), ('FR940902-1-00053', -4.372917240668857), ('FR940511-1-00106', -4.373163290350676), ('FR941027-1-00029', -4.376618720962039), ('FT933-7593', -4.3900740723021245), ('LA101190-0170', -4.39706881120423), ('LA110990-0132', -4.399155487898541), ('FR940603-0-00083', -4.400210036547839), ('FR940603-0-00117', -4.411022523394955), ('FBIS4-8082', -4.413008088931138), ('FT933-7587', -4.414200694916261), ('FR940610-0-00009', -4.417772877667621), ('FBIS4-12318', -4.424331560766822), ('FBIS3-23204', -4.430755565728177), ('LA021590-0054', -4.436555472787932), ('FBIS3-31784', -4.43775891043331), ('LA072390-0061', -4.442344200964177), ('FR940902-1-00084', -4.448681626506702), ('LA082089-0092', -4.451898797176498), ('FR940314-2-00016', -4.453205998024212), ('FR940902-1-00080', -4.454943607546523), ('FR940907-0-00014', -4.4565512942851235), ('FT933-12057', -4.456670745472414), ('FR940804-2-00043', -4.461658261072165), ('LA090389-0091', -4.464034542213145), ('FBIS3-285', -4.4706814825420125), ('FBIS3-296', -4.4706814825420125), ('FR940228-2-00022', -4.477926470512415), ('LA010989-0053', -4.485147020475252), ('FBIS3-4340', -4.485151559557697), ('FBIS3-42384', -4.4902404668458455), ('FT911-4482', -4.497171593819884), ('FT942-15612', -4.502245992916997), ('FBIS4-9394', -4.502925903120916), ('FT931-14440', -4.503468407279561), ('LA012890-0090', -4.504664373781279), ('FBIS3-43345', -4.505871374531314), ('FBIS4-54521', -4.508535212005649), ('FR940125-2-00005', -4.511130444660036), ('LA122889-0122', -4.511245321031546), ('FBIS4-51567', -4.512684679538315), ('FBIS3-42192', -4.516669319878102), ('FBIS3-51667', -4.517861925863225), ('FBIS3-49241', -4.518717179748751), ('FT933-12237', -4.5190531112333785), ('FBIS3-48836', -4.524050525724113), ('FBIS3-42433', -4.5275117834355765), ('FBIS3-23335', -4.530887568880381), ('FT943-1306', -4.534808358071091), ('LA103089-0105', -4.535356425146932), ('FBIS3-25288', -4.535947559635959), ('FBIS4-7721', -4.537921595537761), ('FBIS3-5730', -4.537928738490527), ('FR940902-1-00055', -4.539333096566172), ('LA122590-0086', -4.540854342098201), ('FBIS4-22187', -4.543000960478037), ('FBIS4-66870', -4.543000960478037), ('FBIS4-4775', -4.547881063332493), ('FBIS4-36192', -4.548380726327898), ('FBIS4-66620', -4.5484200125910625), ('FBIS4-9114', -4.549797672250589), ('LA071690-0108', -4.550690196176561), ('FR940228-2-00005', -4.552780885454973), ('FT933-13199', -4.552886075364), ('FBIS4-4345', -4.553212232278129), ('FR940902-1-00070', -4.5554469689671535), ('LA043089-0105', -4.557855641348065), ('LA100190-0068', -4.559458205793607), ('FT943-1698', -4.56101731033241), ('FBIS3-34580', -4.563297813031135), ('FBIS4-54486', -4.564427459446902), ('LA040689-0146', -4.565991662346337), ('LA051290-0071', -4.5699364406373535), ('FR940504-1-00025', -4.570263983357734), ('LA101590-0026', -4.571836688871849), ('FR940224-2-00099', -4.574459742223556), ('FT933-12065', -4.575875593588699), ('FBIS3-47306', -4.576660027882537), ('FBIS4-8777', -4.5796949315776905), ('FBIS3-50473', -4.5817771415721245), ('FBIS3-31785', -4.5889047554963565), ('FBIS4-37776', -4.589156477004357), ('FT933-12063', -4.5909134709532395), ('FBIS3-18970', -4.593586163095945), ('FBIS4-8198', -4.594690525438998), ('FT941-4773', -4.594732808942231), ('FBIS4-53584', -4.595981925870442), ('FBIS3-8219', -4.595981925870442), ('FBIS4-12727', -4.60020431075029), ('LA110590-0013', -4.600288078163126), ('LA100389-0048', -4.601503332421975), ('LA093090-0153', -4.601784272792875), ('FT942-16068', -4.6021693236513155), ('LA080990-0093', -4.604852745619907), ('FBIS3-13539', -4.606758691652484), ('FBIS4-23388', -4.609987757059361), ('FBIS4-7596', -4.609987757059361), ('FBIS3-33452', -4.611837311226702), ('FBIS3-60912', -4.614270402451343), ('FBIS3-602', -4.616727994163295), ('FBIS4-8410', -4.61868295218222), ('FBIS3-44900', -4.6210528768718335), ('FR940603-0-00104', -4.622797806937293), ('FBIS4-20736', -4.624711979179265), ('LA081989-0035', -4.62535544502701), ('LA103189-0117', -4.627906913299626), ('FBIS3-42477', -4.628051347276979), ('FBIS3-23147', -4.629942814858975), ('FBIS3-57863', -4.631138272263749), ('LA120890-0040', -4.63497598282404), ('FR940902-1-00071', -4.640287650449994), ('FBIS4-20802', -4.641341099588124), ('FBIS3-42328', -4.641475642505695), ('FBIS3-38784', -4.641475642505695), ('FT921-8526', -4.644216254187384), ('LA102390-0162', -4.645373388085621), ('FBIS4-65853', -4.645692406396941), ('FBIS3-60882', -4.649529377312792), ('LA050590-0161', -4.651319018313739), ('FBIS3-6952', -4.651542294279457), ('FBIS3-8082', -4.653532051102449), ('FT944-14358', -4.653532051102449), ('FT924-3238', -4.654862723288154), ('LA090190-0147', -4.660167775517848), ('FT941-3359', -4.66094957290167), ('FBIS4-6636', -4.662809784980686), ('FBIS4-34410', -4.662809784980686), ('FBIS3-10924', -4.662886970578329), ('FBIS4-21815', -4.662947290893448), ('FBIS3-9680', -4.664128176733945), ('FBIS3-19119', -4.665007023856458), ('FT923-1120', -4.670098912965335), ('FT941-11009', -4.671160889430836), ('FBIS3-9172', -4.672103625683253), ('FBIS3-23472', -4.675538088131888), ('FBIS3-19594', -4.675538088131888), ('FBIS4-59049', -4.677217368843959), ('LA100789-0023', -4.678028111159232), ('FBIS4-41006', -4.6793075739986545), ('FBIS3-33607', -4.681110949363091), ('LA082789-0197', -4.682292659512881), ('FBIS3-35182', -4.686278919521533), ('FBIS3-29414', -4.686901846782203), ('FBIS4-13772', -4.686951123012917), ('LA040889-0120', -4.6884470096044994), ('FT942-8049', -4.691411437288178), ('FBIS4-37587', -4.69292128999942), ('FBIS4-22001', -4.69292128999942), ('FBIS4-32224', -4.695259095329117), ('FBIS3-32395', -4.695259095329117), ('FBIS4-46195', -4.695404501040829), ('FBIS3-9615', -4.695893060388578), ('FBIS3-42344', -4.696535419688722), ('FR940603-0-00102', -4.697308261904733), ('FBIS3-48237', -4.697375640348801), ('FBIS3-31840', -4.6981379200491284), ('LA090190-0136', -4.699584399985912), ('FBIS3-50998', -4.701624489196194), ('FBIS4-31048', -4.701810237416667), ('FT933-12673', -4.705424367105969), ('FBIS4-27332', -4.70814356216645), ('LA012489-0103', -4.709279847534447), ('LA052290-0102', -4.710263615444579), ('LA071389-0201', -4.710353507817253), ('FBIS3-53419', -4.710468513992646), ('LA112389-0135', -4.710640549700981), ('LA100890-0140', -4.710663513111401), ('FT931-14926', -4.711246416506487), ('FBIS3-42396', -4.711778037842927), ('FBIS3-60778', -4.713355375000466), ('FBIS4-56055', -4.713540577202156), ('FT931-4997', -4.714234996788123), ('FT931-820', -4.715561287042092), ('LA102390-0072', -4.718099110968527), ('LA031790-0114', -4.720048429324577), ('LA032689-0129', -4.721330566448404), ('FBIS4-9113', -4.722248905093941), ('LA022190-0165', -4.723908739861422), ('FBIS3-48230', -4.725450067608263), ('FBIS4-32062', -4.729448360236795), ('LA090190-0094', -4.730026273415958), ('LA111389-0018', -4.730655202793707), ('FBIS4-9185', -4.730882052238643), ('FR940603-0-00088', -4.731879605969821), ('LA032390-0056', -4.732376626877479), ('FR940816-0-00015', -4.7335244368532425), ('LA041489-0140', -4.733588288010988), ('FBIS4-9330', -4.735170836510861), ('FBIS3-20180', -4.735422940588112), ('LA092590-0101', -4.735575715642732), ('FT943-15458', -4.736540754302421), ('FBIS4-1014', -4.739441305634314), ('LA112989-0066', -4.739441305634314), ('FBIS3-6912', -4.739887925860911), ('FBIS3-30567', -4.7408607522885395), ('FT933-12667', -4.7408607522885395), ('FBIS4-65758', -4.7422781869695125), ('FBIS3-12676', -4.7422781869695125), ('FBIS3-23095', -4.7422781869695125), ('FBIS3-9681', -4.742649508790742), ('FBIS4-32317', -4.742649508790742), ('FBIS4-51698', -4.743997484012696), ('LA103089-0010', -4.744578085421003), ('LA112690-0062', -4.745038151837227), ('FT941-4490', -4.745049731529995), ('FBIS3-22990', -4.745107043169991), ('LA072389-0050', -4.746198256503982), ('FBIS4-32061', -4.747927919511632), ('LA010789-0049', -4.749216334899467), ('FBIS4-36190', -4.749335379279512), ('FBIS3-33246', -4.750740860888246), ('LA042189-0167', -4.751013415027314), ('FBIS4-62190', -4.751139553723574), ('FBIS4-31219', -4.7521443698905665), ('FBIS3-23481', -4.753545911815856), ('FBIS3-9606', -4.7535521001289585), ('LA112589-0097', -4.75545174091675), ('FBIS3-28520', -4.7591325185244955), ('FBIS3-26692', -4.75955812418917), ('LA050590-0087', -4.760755012423016), ('FBIS4-37464', -4.763144499820397), ('FBIS4-12222', -4.763144499820397), ('FBIS4-8798', -4.76330208676122), ('FBIS3-54185', -4.76330208676122), ('FBIS4-37891', -4.766072171635035), ('FT933-11167', -4.766833784578456), ('FT941-4713', -4.7674543418619875), ('FR940711-0-00040', -4.769779997285939), ('FBIS4-54640', -4.771589427009791), ('FBIS4-8517', -4.7729639976729565), ('FBIS3-54238', -4.77314146639701), ('LA061089-0114', -4.775007035130217), ('FT923-3922', -4.775007035130217), ('FT941-8987', -4.775512697227568), ('FT923-10469', -4.7775788136650394), ('FBIS4-22072', -4.778610273271702), ('FBIS4-52973', -4.779640670065598), ('FT932-5510', -4.780885946829994), ('FBIS3-56902', -4.782533448689108), ('FBIS4-23645', -4.783193532331979), ('FBIS4-37993', -4.783227868275074), ('FBIS4-9553', -4.784396775480056), ('FT942-15004', -4.784815592703848), ('FBIS3-13124', -4.785564317936094), ('FT933-11463', -4.786823871809091), ('LA100989-0056', -4.787960870424473), ('FBIS3-9387', -4.789313135674487), ('FBIS3-9097', -4.789313135674487), ('FBIS4-65871', -4.7898866613396365), ('FBIS3-43973', -4.790220903766045), ('FBIS4-61471', -4.791381670002007), ('FR941019-2-00164', -4.791711128418758), ('FBIS4-47362', -4.791731336200183), ('FBIS4-5329', -4.792541090421742), ('FBIS3-28863', -4.792541090421742), ('LA041890-0110', -4.79369916814237), ('FT932-434', -4.796011307900749), ('FT931-14605', -4.800006192914388), ('FBIS4-1256', -4.800065927450748), ('FBIS4-19082', -4.800065927450748), ('LA091689-0149', -4.800478984174745), ('FBIS3-22907', -4.800481346439754), ('LA081090-0066', -4.803051408430847), ('LA091089-0147', -4.8053928364468845), ('FT921-982', -4.806064971736112), ('FBIS4-30771', -4.8072524313396725), ('FBIS3-34322', -4.807492490274706), ('FBIS3-52183', -4.808055317484227), ('FBIS3-3084', -4.808633391710497), ('FBIS4-7228', -4.813346335118642), ('LA041089-0022', -4.8135715676911515), ('FT921-4088', -4.814318455345106), ('FBIS3-12942', -4.814318455345106), ('FT924-926', -4.814501234896996), ('FBIS4-55070', -4.815145132138582), ('FBIS3-25493', -4.815451599942274), ('LA123190-0104', -4.8159813827566476), ('FT934-2065', -4.8159813827566476), ('FR940819-2-00088', -4.818687146188711), ('FBIS4-68031', -4.8199209807607275), ('FBIS4-11482', -4.8199209807607275), ('FT932-674', -4.821098142330484), ('FBIS4-66957', -4.821230738642791), ('FBIS4-7828', -4.822538783302806), ('FT941-4495', -4.8233478620645), ('FBIS3-8627', -4.8238451192168625), ('LA082990-0074', -4.824470826809124), ('LA121389-0108', -4.8260579389513145), ('FBIS4-30841', -4.827645294902813), ('LA080590-0172', -4.827974456163442), ('FBIS3-7780', -4.829053464324001), ('LA040489-0104', -4.830830972537923), ('LA110789-0028', -4.831121587006461), ('LA060389-0119', -4.831391577236771), ('FBIS4-46213', -4.832941998063693), ('FT932-582', -4.832941998063693), ('LA092690-0167', -4.834955674371179), ('LA081390-0111', -4.835525978829618), ('FBIS3-12337', -4.835631656946652), ('FBIS3-23599', -4.836071944839445), ('FR940902-1-00057', -4.837012727507202), ('FBIS4-8412', -4.8378489527553), ('FT941-3863', -4.8378489527553), ('FBIS3-6276', -4.839389473654663), ('LA072290-0084', -4.839463835075255), ('LA011190-0232', -4.8394706418755105), ('LA092089-0031', -4.840420762054864), ('FR940223-0-00010', -4.843074607341052), ('FBIS3-48834', -4.843370777939608), ('FBIS4-12220', -4.846107357742548), ('FT923-9457', -4.846229870826293), ('LA033190-0071', -4.846631962147504), ('FT943-10262', -4.8466692965982725), ('FBIS3-43419', -4.8466692965982725), ('LA021690-0018', -4.8472865739784625), ('FBIS4-21921', -4.84763058728307), ('FR940603-0-00090', -4.848151251939817), ('FR940803-2-00024', -4.84901518287908), ('LA051589-0101', -4.849619741905477), ('FBIS3-50474', -4.849619741905477), ('FBIS4-8608', -4.849956970792465), ('LA032290-0145', -4.850670103300967), ('FR940325-2-00002', -4.850740808846551), ('LA092589-0012', -4.851391172606518), ('FR940902-1-00060', -4.851602506444031), ('FBIS3-53420', -4.852186403818931), ('FBIS4-37100', -4.852186403818931), ('FBIS3-46606', -4.853233871594779), ('FBIS4-46305', -4.858228718274893), ('FT931-13613', -4.859083518229674), ('LA102089-0188', -4.859733609454314), ('LA012389-0085', -4.861005064130603), ('LA032390-0188', -4.861377166381342), ('FBIS4-7784', -4.862262135320654), ('FBIS3-38561', -4.862736614714083), ('FBIS4-10060', -4.864234742335105), ('FT941-15462', -4.86544891209675), ('FR940725-0-00026', -4.865695419399649), ('FBIS3-30738', -4.867224281183471), ('FBIS3-42077', -4.867224281183471), ('FBIS3-17509', -4.867274677144199), ('LA083189-0166', -4.868281340388257), ('FT932-15843', -4.869248790006525), ('FT941-4019', -4.869459214023905), ('FBIS3-59856', -4.869459214023905), ('FT942-16836', -4.869771557342785), ('FT944-8848', -4.870204909321609), ('FBIS4-64227', -4.872262218655237), ('FR940228-2-00019', -4.872623092142919), ('FT942-15815', -4.873034283486007), ('FR940603-0-00087', -4.873340332439617), ('FBIS3-49068', -4.873505226894834), ('FBIS3-60815', -4.875675806844166), ('FBIS4-8926', -4.876139644841424), ('FBIS3-31329', -4.876139644841424), ('FBIS4-21941', -4.876728129230226), ('FBIS4-55012', -4.877617841710735), ('FBIS4-12806', -4.877617841710735), ('FBIS3-49876', -4.878676559283405), ('FBIS4-30810', -4.879093856738855), ('FBIS4-55968', -4.879093856738855), ('LA042589-0112', -4.8846015953365844), ('FBIS4-34673', -4.8846233154788115), ('LA050490-0126', -4.884852962949111), ('LA092890-0078', -4.884976226641922), ('FT932-681', -4.8851041670324085), ('FR941202-0-00040', -4.8851620714047845), ('FBIS4-36267', -4.885851062717133), ('FBIS3-12932', -4.888302044336274), ('FBIS4-30456', -4.891741302992516), ('LA102189-0158', -4.894329324707234), ('FBIS4-68019', -4.894403344532451), ('LA072590-0027', -4.896453585923599), ('LA100790-0230', -4.896530339176656), ('FBIS3-49819', -4.8966381663897645), ('FBIS3-25731', -4.8966381663897645), ('FBIS3-20467', -4.898017474221753), ('FBIS4-62106', -4.898046335810952), ('FT911-3011', -4.8991389354797334), ('LA012389-0010', -4.899532524416129), ('FBIS4-47810', -4.9001668268524625), ('FBIS4-31952', -4.900467644499963), ('LA050490-0061', -4.90167610386153), ('FBIS3-9280', -4.904088650266915), ('FBIS3-6876', -4.9043796605607355), ('LA060489-0216', -4.905251296627128), ('FT932-1002', -4.905292744331719), ('FT944-8593', -4.905292744331719), ('LA053089-0109', -4.90529622913288), ('FBIS3-23038', -4.90529622913288), ('LA110689-0012', -4.906304507978593), ('FBIS4-12616', -4.906731979558984), ('FBIS4-12731', -4.906731979558984), ('FBIS4-21917', -4.906731979558984), ('LA102090-0132', -4.907349986380146), ('FBIS3-39105', -4.908165671560832), ('FBIS3-43240', -4.908165671560832), ('FT922-14447', -4.90959731103227), ('FBIS3-14068', -4.90959731103227), ('FBIS3-23397', -4.90959731103227), ('LA051290-0075', -4.910129481889443), ('FT933-13609', -4.911026903841864), ('LA101790-0098', -4.9117710279104845), ('LA010790-0177', -4.91245445583305), ('FBIS4-51566', -4.91245445583305), ('FBIS4-10197', -4.913429496080653), ('FBIS4-12919', -4.913537702980849), ('FBIS4-59166', -4.913681049958354), ('FT934-14115', -4.913755517262563), ('LA121189-0026', -4.913755517262563), ('FBIS4-31521', -4.914873655943477), ('FT921-596', -4.914948768325392), ('LA080989-0028', -4.9160196659562025), ('FBIS4-8556', -4.91606484131363), ('FBIS4-32607', -4.916724924956502), ('FBIS3-43920', -4.916724924956502), ('FBIS3-13063', -4.916724924956502), ('FBIS3-23268', -4.916724924956502), ('FBIS3-43522', -4.919629907478126), ('FBIS3-43307', -4.919629907478126), ('FT933-2995', -4.920698858903678), ('FR940228-2-00021', -4.921873063218517), ('FBIS3-43473', -4.921999576833445), ('FR940304-2-00008', -4.922902399387631), ('FR940304-2-00009', -4.922902399387631), ('FBIS3-13102', -4.923182309082494), ('LA101489-0079', -4.924363644128325), ('FBIS3-7860', -4.924363644128325), ('FBIS3-60914', -4.924363644128325), ('FR940304-2-00010', -4.924957898569727), ('FT923-3899', -4.925543585268174), ('FBIS4-34394', -4.9266189986017), ('FBIS3-31234', -4.926722135787618), ('FBIS3-1401', -4.929427989212756), ('FBIS4-8054', -4.929427989212756), ('LA011489-0121', -4.93128711348066), ('FBIS4-32923', -4.932229111492467), ('LA091090-0103', -4.932594143264841), ('FBIS3-34798', -4.9336267357591055), ('FBIS4-30807', -4.9336267357591055), ('FBIS4-68181', -4.9336267357591055), ('FT924-4946', -4.9349333256180135), ('FR940610-0-00013', -4.935086000971196), ('FBIS3-32451', -4.936416137846684), ('FBIS3-41979', -4.9368771693001525), ('FT943-11431', -4.937267048964233), ('FBIS3-46991', -4.937267048964233), ('LA110489-0087', -4.9378796756497785), ('FBIS4-13433', -4.939197780808561), ('LA110489-0142', -4.939595338723825), ('LA101689-0013', -4.940010008550218), ('FBIS4-21826', -4.940585706083409), ('FBIS3-33249', -4.940585706083409), ('LA082690-0164', -4.940757453904002), ('LA112989-0068', -4.9433557909572245), ('FBIS3-43242', -4.9433557909572245), ('FBIS4-55811', -4.9433557909572245), ('LA123190-0061', -4.944235718280327), ('LA030790-0116', -4.944737961184176), ('LA062689-0027', -4.944737961184176), ('FBIS4-3847', -4.944737961184176), ('LA012789-0015', -4.9448692198314905), ('FT921-15741', -4.945882016027441), ('FBIS4-31251', -4.9461182236531345), ('FT941-17729', -4.9461182236531345), ('FBIS3-53103', -4.9461182236531345), ('FBIS3-25315', -4.9461182236531345), ('FBIS3-11663', -4.947496583623256), ('FBIS3-53221', -4.947701926256813), ('FBIS4-46246', -4.948841419691924), ('FR940627-0-00007', -4.950742162226756), ('FBIS3-30279', -4.951620300807118), ('LA012589-0097', -4.951810249185725), ('FBIS4-31727', -4.952991102940897), ('FR940902-1-00058', -4.954297382889128), ('FR940927-1-00013', -4.954297382889128), ('FBIS4-2390', -4.955727082759771), ('FT944-15133', -4.955755027476742), ('FBIS3-8961', -4.958455597412975), ('LA020389-0071', -4.959817068011296), ('FBIS4-9186', -4.9611766875273355), ('FBIS3-23298', -4.9611766875273355), ('FBIS4-9393', -4.9611766875273355), ('FBIS3-7274', -4.961447847161448), ('LA082590-0010', -4.9631826691886465), ('FBIS4-59981', -4.963890393398932), ('FBIS4-59216', -4.963890393398932), ('FBIS4-68063', -4.963890393398932), ('LA092490-0015', -4.964048095465075), ('FT932-1531', -4.9644440338875), ('LA091890-0065', -4.964855005483062), ('FBIS3-51996', -4.965244489746661), ('FBIS4-36292', -4.965831191717627), ('FBIS3-1495', -4.965988150080231), ('FT943-11921', -4.967120012113915), ('FBIS4-58683', -4.968250594484201), ('FBIS4-32529', -4.96929581196584), ('FBIS4-8927', -4.969379900081352), ('LA082690-0062', -4.971188330232845), ('LA061390-0072', -4.971634692468441), ('FT924-3264', -4.973884412202456), ('FBIS3-53240', -4.976011753931277), ('LA060589-0081', -4.977177463064148), ('FBIS4-46302', -4.977968017218225), ('FT942-15032', -4.978368724649785), ('FT932-190', -4.978685552315679), ('LA040790-0079', -4.980019775328816), ('FBIS3-29338', -4.980019775328816), ('FBIS3-9170', -4.980603362451202), ('FBIS3-36663', -4.981340701696864), ('FT944-14397', -4.981718811535067), ('FBIS3-6142', -4.9826828927483), ('FT932-7080', -4.9826828927483), ('FBIS3-23344', -4.9826828927483), ('FT944-14566', -4.9839459839478915), ('FBIS4-12763', -4.984011796598353), ('FT911-1188', -4.984011796598353), ('FBIS4-9123', -4.984109276670187), ('FR940902-1-00072', -4.985079388866202), ('LA090889-0030', -4.9851021062964875), ('FBIS4-22029', -4.985338936806416), ('FBIS4-12588', -4.985338936806416), ('FBIS4-30963', -4.987987944977992), ('FBIS3-23259', -4.987987944977992), ('FT921-15426', -4.988887907332247), ('FT941-9495', -4.989039442778046), ('FBIS4-7695', -4.989309822235908), ('FBIS4-19892', -4.989309822235908), ('FBIS3-19025', -4.990597893176197), ('FT942-8096', -4.9906299544408315), ('LA092189-0123', -4.991871474273841), ('FT943-290', -4.991948346194089), ('FT933-9115', -4.991948346194089), ('FT924-11277', -4.991948346194089), ('FBIS4-50185', -4.99323543633938), ('FT924-5847', -4.993265002078837), ('LA122989-0109', -4.993907328077564), ('LA110590-0105', -4.993907328077564), ('LA051690-0101', -4.99471882764304), ('FBIS4-36191', -4.995008043653749), ('FBIS4-38082', -4.997202753417207), ('FT933-13159', -4.997204600082917), ('LA100389-0112', -4.997204600082917), ('FBIS4-46253', -4.997205846736229), ('FT921-3462', -4.997205846736229), ('FBIS3-54601', -4.9985143579649804), ('FR940627-0-00006', -5.000092038078761), ('FBIS3-8314', -5.001128738539051), ('FBIS3-29752', -5.001128738539051), ('FBIS3-9076', -5.001128738539051), ('LA051889-0054', -5.001224826372859), ('FT933-3439', -5.00206894306838), ('FBIS3-33301', -5.002433370165716), ('FBIS3-31452', -5.003736301946132), ('FT922-5438', -5.003770421732736), ('FT923-12961', -5.005195711802352), ('FR940902-1-00052', -5.005241362156546), ('FBIS3-60883', -5.0052999636498265), ('FR940314-2-00034', -5.006093272354008), ('FBIS3-49321', -5.006337083646189), ('FBIS4-68155', -5.006337083646189), ('FBIS4-57272', -5.006337083646189), ('FBIS3-19648', -5.006911567544168), ('FBIS4-17674', -5.006911567544168), ('FBIS3-23446', -5.006911567544168), ('FT921-10393', -5.007036619519357), ('FBIS3-7162', -5.008474469786063), ('FT932-6032', -5.008931118823236), ('FBIS3-20059', -5.010127004398143), ('FBIS3-25533', -5.010292183979123), ('LA072889-0013', -5.012202339900077), ('FBIS3-34926', -5.012809598151807), ('FT931-15236', -5.01282631827043), ('LA041389-0099', -5.013332135347091), ('FBIS4-60674', -5.013332135347091), ('FBIS4-46155', -5.013332135347091), ('FT941-10356', -5.01353718412245), ('FT921-10144', -5.014061076494703), ('LA082490-0078', -5.014099088981679), ('FBIS4-10758', -5.014930856710788), ('FT932-11555', -5.014930856710788), ('FBIS3-23372', -5.014930856710788), ('FBIS4-7599', -5.015386919166107), ('FT923-5796', -5.015386919166107), ('FBIS4-68136', -5.01652702624361), ('FBIS4-55683', -5.016673092976851), ('FT923-7892', -5.017957614669208), ('FT923-6714', -5.017957614669208), ('FBIS3-31874', -5.018120652078888), ('FT922-14085', -5.018692858744742), ('FT923-1464', -5.019240488482097), ('FBIS4-55966', -5.019240488482097), ('FBIS3-18903', -5.01971174231113), ('LA100190-0085', -5.019995764161862), ('FT942-1713', -5.0221393877051135), ('FBIS4-51603', -5.022886348151903), ('FBIS4-68027', -5.022886348151903), ('FBIS3-13794', -5.022920158701755), ('FT942-13374', -5.023209478764958), ('FBIS3-25554', -5.023209478764958), ('FT942-15720', -5.024278425953863), ('LA081090-0143', -5.02504673280671), ('FT933-12212', -5.025630286580868), ('FBIS3-10727', -5.026903361227666), ('FBIS3-2409', -5.026903361227666), ('FR940902-1-00056', -5.027336560185327), ('FBIS4-8402', -5.027629440047916), ('LA081289-0091', -5.027629440047916), ('FT943-2975', -5.028174817215863), ('LA103190-0063', -5.028267347506752), ('FBIS3-50704', -5.029444658656339), ('FBIS3-48235', -5.029444658656339), ('FBIS3-27786', -5.029606089061651), ('LA091789-0100', -5.030668224052634), ('LA030289-0097', -5.030668224052634), ('FBIS4-13957', -5.030779048950811), ('FT924-9150', -5.03127280873255), ('LA110289-0210', -5.031979514259527), ('FT932-6037', -5.031979514259527), ('FBIS4-37814', -5.031979514259527), ('FBIS3-8080', -5.033244536566113), ('FBIS3-4648', -5.033244536566113), ('FBIS3-6992', -5.033244536566113), ('FBIS3-24820', -5.033244536566113), ('LA102689-0048', -5.0332836369244625), ('FT943-12167', -5.033847876970014), ('FBIS4-66751', -5.033847876970014), ('FBIS4-57680', -5.033847876970014), ('FBIS4-54825', -5.03391876895548), ('FBIS4-180', -5.03391876895548), ('FT942-16842', -5.034507960612886), ('FT932-5422', -5.035484939988224), ('FBIS3-29556', -5.035484939988224), ('FBIS3-54152', -5.035484939988224), ('FBIS3-40122', -5.03564302234308), ('FBIS4-22049', -5.037017451731293), ('FBIS4-8466', -5.037017451731293), ('FBIS4-46407', -5.03860994253136), ('LA050290-0049', -5.039700771245095), ('LA052189-0111', -5.041047074153151), ('FBIS3-60789', -5.041725209848309), ('LA111890-0189', -5.042277853130473), ('FBIS4-25736', -5.042358106513986), ('LA121690-0202', -5.042397677411523), ('FT922-13034', -5.043279211715043), ('FBIS3-43283', -5.043307514564734), ('FBIS3-43416', -5.043307514564734), ('FT933-10354', -5.044060706782306), ('LA071489-0030', -5.04421664891443), ('FBIS4-35147', -5.044558296466387), ('FBIS4-8704', -5.044558296466387), ('FR940118-2-00012', -5.044792216996668), ('FR940603-0-00103', -5.044792216996668), ('LA012089-0174', -5.044830802406462), ('FT931-15237', -5.045142188977945), ('FBIS4-24235', -5.0458075158668185), ('FBIS3-50864', -5.0458075158668185), ('FBIS3-8991', -5.0458075158668185), ('FBIS3-60933', -5.0458075158668185), ('LA012990-0011', -5.046041874148842), ('FT934-2286', -5.046379989393292), ('FBIS4-55898', -5.046379989393292), ('FT931-1551', -5.0470551766649745), ('LA062890-0262', -5.047327942799328), ('LA010989-0072', -5.047802825658527), ('FBIS3-19121', -5.04792678011159), ('FR940406-2-00007', -5.048428584640051), ('LA083190-0102', -5.048428584640051), ('LA050890-0148', -5.048554024359709), ('FBIS4-61570', -5.048554024359709), ('FBIS4-59835', -5.049471181962964), ('FBIS4-32225', -5.049471181962964), ('FT934-6111', -5.049471181962964), ('FBIS3-8461', -5.049471181962964), ('FBIS4-8409', -5.049545837977426), ('FBIS4-6820', -5.049596233938153), ('LA101289-0111', -5.049659945674341), ('LA101890-0013', -5.050241821764232), ('FBIS3-48979', -5.051013202314779), ('LA112990-0154', -5.051423053053359), ('FBIS4-22063', -5.051677400141977), ('FBIS3-19192', -5.052317107650239), ('LA031889-0003', -5.052799665679009), ('FBIS4-184', -5.053270237068409), ('FBIS4-68154', -5.054090127819259), ('FBIS4-57273', -5.054090127819259), ('FBIS4-12793', -5.054090127819259), ('LA042989-0059', -5.054508627319555), ('FBIS4-4346', -5.055625047537342), ('FBIS4-7772', -5.055625047537342), ('FBIS3-13328', -5.055625047537342), ('FBIS4-68010', -5.055625047537342), ('LA010289-0026', -5.055745485856951), ('FBIS4-10702', -5.055745485856951), ('LA080390-0171', -5.05679543112129), ('FBIS4-12421', -5.056980816464944), ('LA121490-0161', -5.056980816464944), ('FR940505-2-00006', -5.05731151394714), ('FBIS4-4834', -5.057895036752848), ('LA121490-0121', -5.058687837067888), ('FBIS4-35996', -5.059446908960138), ('FR941227-0-00031', -5.059754213691825), ('FR940610-0-00012', -5.059754213691825), ('FBIS3-4948', -5.0602157212459415), ('FBIS4-55901', -5.0602157212459415), ('FBIS4-59374', -5.0602157212459415), ('FBIS4-65675', -5.0602157212459415), ('FBIS4-43234', -5.0602157212459415), ('FBIS3-18387', -5.0617412745547785), ('FBIS4-9325', -5.0617412745547785), ('FT924-5839', -5.062099311044701), ('FBIS3-48833', -5.063047031662276), ('FBIS3-12382', -5.064785416936007), ('FBIS4-10249', -5.064785416936007), ('FBIS3-25621', -5.064785416936007), ('FBIS3-25675', -5.064785416936007), ('FT932-4849', -5.065585663658463), ('FT943-13517', -5.066414681009833), ('FBIS3-11346', -5.066808905401206), ('FBIS4-55245', -5.0680306526515295), ('FBIS3-14316', -5.0680306526515295), ('FBIS3-30278', -5.0680306526515295), ('FT931-14587', -5.068172619511088), ('FBIS4-61185', -5.068172619511088), ('FBIS3-23051', -5.069194592006782), ('FBIS4-55897', -5.069334325462376), ('FT933-7683', -5.070032362785496), ('LA071990-0093', -5.070215521140889), ('FBIS3-5178', -5.070215521140889), ('FR940603-0-00094', -5.070618951030317), ('FT933-12921', -5.070846041547697), ('FBIS3-28364', -5.070846041547697), ('FT932-11102', -5.070846041547697), ('FBIS3-13327', -5.070846041547697), ('FR940207-1-00041', -5.071182909515448), ('FT934-13827', -5.071631375423395), ('FBIS4-52175', -5.071686963854639), ('LA020389-0131', -5.072527631146719), ('FT922-4862', -5.0729027694755295), ('LA071690-0096', -5.073538063133125), ('FT923-5594', -5.073836896976141), ('FT933-14050', -5.073862635087123), ('FBIS4-12916', -5.074117098707932), ('FR940610-0-00006', -5.07530662669931), ('LA101990-0064', -5.075329955133141), ('FBIS4-1358', -5.075329955133141), ('FBIS3-23466', -5.075367526266543), ('FBIS3-709', -5.076541342319437), ('FBIS3-5438', -5.076870156151078), ('FBIS4-20162', -5.076870156151078), ('FBIS4-68014', -5.076870156151078), ('LA093090-0070', -5.077593020366391), ('FT941-4211', -5.077751263822151), ('FBIS4-8194', -5.077751263822151), ('LA091389-0136', -5.078370531526313), ('FT932-11556', -5.078370531526313), ('FBIS4-21735', -5.078370531526313), ('FBIS3-8229', -5.078370531526313), ('LA080590-0098', -5.078434606224771), ('FBIS4-19210', -5.078959723183719), ('FBIS4-58318', -5.079868659147335), ('FBIS4-8058', -5.08016408141952), ('LA081589-0135', -5.081364545738918), ('FT931-2963', -5.081372269589103), ('FBIS4-32315', -5.082576363653907), ('LA030490-0207', -5.082576363653907), ('FT932-11358', -5.082576363653907), ('FBIS4-48106', -5.0828581979957015), ('FBIS3-12005', -5.0828581979957015), ('FBIS4-54635', -5.0828581979957015), ('FBIS4-24086', -5.083779009619668), ('FBIS4-16116', -5.084400156132845), ('FBIS4-31046', -5.084980210965302), ('LA061189-0082', -5.085405686634863), ('FR941227-0-00033', -5.085542130593336), ('LA022889-0092', -5.085838826133839), ('FT911-286', -5.086179971157207), ('FT921-2541', -5.086179971157207), ('LA111290-0121', -5.087325815255418), ('FBIS3-43624', -5.087325815255418), ('FBIS4-24323', -5.087325815255418), ('LA081989-0004', -5.087567089788044), ('LA021990-0054', -5.088810596522997), ('LA061089-0060', -5.090293176483219), ('FBIS4-22034', -5.090418228458408), ('LA040889-0052', -5.090964669280543), ('FBIS4-8415', -5.091417728791492), ('FBIS4-29801', -5.093251758522965), ('FT921-7964', -5.093348460635819), ('FT933-13155', -5.094727773551085), ('FBIS4-32871', -5.094727773551085), ('LA122589-0003', -5.094845612750162), ('LA060190-0166', -5.095726583040786), ('FT933-15873', -5.096201613169385), ('LA071889-0138', -5.096201613169385), ('FBIS3-50457', -5.096201613169385), ('LA090889-0061', -5.096400300135955), ('LA123089-0108', -5.097258159155547), ('FBIS4-66621', -5.097393842194833), ('FBIS4-46429', -5.097673283780842), ('FBIS4-2611', -5.097673283780842), ('FT932-3392', -5.098099063394417), ('FR940603-0-00082', -5.098228066644384), ('LA091289-0038', -5.098368467641983), ('LA121790-0017', -5.098693559397463), ('FBIS4-42803', -5.099142791760202), ('FT934-7962', -5.099283196155634), ('FBIS3-31569', -5.099283196155634), ('LA032390-0079', -5.100610143454151), ('FBIS3-23212', -5.100610143454151), ('FBIS3-10429', -5.100610143454151), ('FBIS3-34321', -5.100610143454151), ('FBIS3-1503', -5.100869609148994), ('FBIS4-31681', -5.101027761862928), ('FBIS3-23226', -5.101647263450514), ('FR940204-2-00133', -5.101704098550335), ('FBIS4-9326', -5.10207534518148), ('FBIS4-22030', -5.10207534518148), ('FBIS4-31725', -5.10207534518148), ('FT921-13634', -5.102827204590363), ('LA010189-0040', -5.1032305193059), ('FBIS4-19048', -5.10353840323324), ('LA072489-0021', -5.103642997198726), ('FBIS4-21984', -5.104005755109807), ('FT921-2385', -5.104005755109807), ('FBIS4-12442', -5.104005755109807), ('FT922-11944', -5.1049993238729146), ('LA062790-0103', -5.105306840952158), ('LA122890-0077', -5.105516149204989), ('LA042390-0063', -5.1062432155356765), ('FBIS3-43781', -5.1062432155356765), ('FBIS4-46234', -5.106458113336575), ('FBIS3-23316', -5.106458113336575), ('FBIS3-30934', -5.107533095627775), ('FR940706-1-00003', -5.107698122490546), ('FBIS3-35643', -5.107914777833039), ('FBIS3-46253', -5.108706116290139), ('LA040589-0110', -5.109239982698996), ('LA080790-0031', -5.109369323544033), ('LA120990-0108', -5.109688172898555), ('FBIS4-34937', -5.11104803773522), ('FBIS4-35897', -5.11104803773522), ('LA080489-0125', -5.112152899260905), ('FT942-5731', -5.112216944940202), ('FT932-7062', -5.112216944940202), ('FBIS3-51353', -5.1122720832019946), ('FBIS3-14793', -5.1122720832019946), ('FBIS3-3016', -5.112359757924945), ('FT931-263', -5.1131577154278975), ('FT942-5081', -5.11338448739624), ('FBIS4-13695', -5.11338448739624), ('FBIS3-42359', -5.113720309378359), ('FBIS4-17790', -5.113720309378359), ('FBIS4-9722', -5.113720309378359), ('FBIS3-31120', -5.113720309378359), ('LA012189-0022', -5.115166441228359), ('FBIS4-18825', -5.115166441228359), ('FBIS4-21724', -5.115166441228359), ('LA110390-0166', -5.11551424696361), ('FBIS3-43241', -5.116610484800593), ('FBIS4-56079', -5.116610484800593), ('FBIS3-13930', -5.116610484800593), ('FBIS3-23396', -5.116610484800593), ('FR940228-2-00009', -5.116816312386902), ('FT933-16038', -5.11804107322619), ('FBIS4-15859', -5.118052446117494), ('FT943-497', -5.118052446117494), ('FT942-2441', -5.119201839462153), ('FBIS3-38923', -5.119492331175482), ('FBIS3-8005', -5.119492331175482), ('FBIS3-50477', -5.119492331175482), ('FBIS4-5450', -5.120223909393333), ('LA050389-0078', -5.120356912611035), ('LA091990-0065', -5.120947433493231), ('FR940228-2-00020', -5.1215460193493385), ('FR940902-1-00068', -5.121888174484863), ('FT943-11954', -5.121916895517779), ('FBIS4-371', -5.122365896371213), ('FBIS3-8631', -5.122365896371213), ('FR941206-1-00137', -5.122885418595909), ('FBIS4-55810', -5.123799588373062), ('FBIS4-21902', -5.123831477360895), ('FBIS4-12501', -5.124819655175741), ('FBIS4-33256', -5.1252312278445), ('FT932-1327', -5.1252312278445), ('FBIS4-46228', -5.1252312278445), ('FT931-15265', -5.1252312278445), ('FBIS4-27998', -5.1252312278445), ('FR940622-2-00005', -5.12546759300252), ('LA020289-0008', -5.1257853722957), ('FBIS4-13066', -5.1257853722957), ('FBIS3-34166', -5.126660820654094), ('LA113090-0061', -5.126750157705798), ('FR940208-0-00075', -5.126771048009697), ('LA073089-0137', -5.12808837264528), ('FT924-8062', -5.12808837264528), ('FBIS3-679', -5.12808837264528), ('FBIS3-48983', -5.12808837264528), ('FR940603-0-00085', -5.12861088887974), ('LA081790-0107', -5.128676940575498), ('LA060390-0131', -5.12950388463616), ('LA052690-0066', -5.129513889636501), ('FT924-5948', -5.129588545650963), ('FBIS3-33697', -5.130937377421354), ('FBIS4-59698', -5.130937377421354), ('FBIS3-59608', -5.131882124638062), ('FBIS3-60754', -5.131882124638062), ('FT923-6892', -5.132358841768732), ('FBIS3-43332', -5.132358841768732), ('FBIS3-18758', -5.132358841768732), ('FBIS3-23325', -5.132358841768732), ('FBIS4-24268', -5.132519404477043), ('FBIS4-60443', -5.133778288422958), ('FBIS3-44008', -5.135195723103932), ('LA100390-0152', -5.136347160346808), ('LA091189-0029', -5.136357253957476), ('FBIS3-49323', -5.136611151507262), ('FBIS4-11938', -5.136611151507262), ('FBIS4-58836', -5.137593162433577), ('FBIS4-22141', -5.1380245793044095), ('FBIS3-9482', -5.1380245793044095), ('FBIS4-32448', -5.1380245793044095), ('FBIS4-16080', -5.1380245793044095)]\n"
          ]
        }
      ]
    },
    {
      "cell_type": "markdown",
      "source": [
        "Now you can reuse some of your evaluation code for mean average precision from above."
      ],
      "metadata": {
        "id": "xKVt8NkKQlqV"
      }
    },
    {
      "cell_type": "code",
      "source": [
        "## TODO [15 points]: Compute the MAP@1000 for the test set you used above to evaluate BM25.\n",
        "total_ap = 0.0\n",
        "num_queries = len(test_topics)\n",
        "\n",
        "# Function to retrieve relevant docs for a given query ID\n",
        "def get_relevant_docs(qrels, query_id):\n",
        "    return {docid for qid, _, docid, score in qrels if qid == query_id and score > 0}\n",
        "\n",
        "# Loop over every test topic\n",
        "for topic_id, topic in test_topics.items():\n",
        "    # Retrieve relevant docs for this topic\n",
        "    relevant_docs = get_relevant_docs(qrels, topic_id)\n",
        "    if not relevant_docs:  # Skip if there are no relevant docs for this topic\n",
        "        continue\n",
        "\n",
        "    # Get ranked documents using the query likelihood model\n",
        "    hits = query_likelihood_model(topic['title'], reader, 1000)\n",
        "\n",
        "    num_relevant = 0\n",
        "    ap_sum = 0.0\n",
        "\n",
        "    # Loop through retrieved docs up to 1000\n",
        "    for rank, (docid, _) in enumerate(hits[:1000], start=1):\n",
        "        if docid in relevant_docs:\n",
        "            num_relevant += 1\n",
        "            precision_at_k = num_relevant / rank\n",
        "            ap_sum += precision_at_k\n",
        "\n",
        "    # Calculate average precision (AP) for this query\n",
        "    ap = ap_sum / len(relevant_docs)\n",
        "    total_ap += ap\n",
        "\n",
        "# Calculate MAP across all queries\n",
        "map_score = total_ap / num_queries\n",
        "print(f'MAP@1000: {map_score:.4f}')"
      ],
      "metadata": {
        "id": "67coeQ03NcN6"
      },
      "execution_count": null,
      "outputs": []
    }
  ]
}